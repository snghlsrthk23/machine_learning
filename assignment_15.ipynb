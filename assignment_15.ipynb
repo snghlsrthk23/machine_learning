{
 "cells": [
  {
   "cell_type": "code",
   "execution_count": 60,
   "metadata": {},
   "outputs": [],
   "source": [
    "import matplotlib.pyplot as plt\n",
    "import seaborn as sns\n",
    "import pandas as pd\n",
    "import numpy as np\n",
    "from sklearn.preprocessing import*\n",
    "%matplotlib inline"
   ]
  },
  {
   "cell_type": "markdown",
   "metadata": {},
   "source": [
    "## Question 1"
   ]
  },
  {
   "cell_type": "code",
   "execution_count": 61,
   "metadata": {},
   "outputs": [
    {
     "data": {
      "text/plain": [
       "((1797, 64), (1797,))"
      ]
     },
     "execution_count": 61,
     "metadata": {},
     "output_type": "execute_result"
    }
   ],
   "source": [
    "from sklearn.datasets import load_digits\n",
    "\n",
    "digit = load_digits()\n",
    "X = digit.data\n",
    "Y = digit.target\n",
    "\n",
    "X.shape,Y.shape"
   ]
  },
  {
   "cell_type": "markdown",
   "metadata": {},
   "source": [
    "## Question 2"
   ]
  },
  {
   "cell_type": "code",
   "execution_count": 62,
   "metadata": {},
   "outputs": [
    {
     "data": {
      "text/plain": [
       "array([[ 0.        , -0.33501649, -0.04308102, ..., -1.14664746,\n",
       "        -0.5056698 , -0.19600752],\n",
       "       [ 0.        , -0.33501649, -1.09493684, ...,  0.54856067,\n",
       "        -0.5056698 , -0.19600752],\n",
       "       [ 0.        , -0.33501649, -1.09493684, ...,  1.56568555,\n",
       "         1.6951369 , -0.19600752],\n",
       "       ...,\n",
       "       [ 0.        , -0.33501649, -0.88456568, ..., -0.12952258,\n",
       "        -0.5056698 , -0.19600752],\n",
       "       [ 0.        , -0.33501649, -0.67419451, ...,  0.8876023 ,\n",
       "        -0.5056698 , -0.19600752],\n",
       "       [ 0.        , -0.33501649,  1.00877481, ...,  0.8876023 ,\n",
       "        -0.26113572, -0.19600752]])"
      ]
     },
     "execution_count": 62,
     "metadata": {},
     "output_type": "execute_result"
    }
   ],
   "source": [
    "from sklearn.preprocessing import StandardScaler\n",
    "X_std = StandardScaler().fit_transform(X)\n",
    "X_std"
   ]
  },
  {
   "cell_type": "markdown",
   "metadata": {},
   "source": [
    "## Question 4"
   ]
  },
  {
   "cell_type": "code",
   "execution_count": 63,
   "metadata": {},
   "outputs": [],
   "source": [
    "from sklearn.decomposition import PCA\n",
    "pca = PCA(n_components=16)"
   ]
  },
  {
   "cell_type": "code",
   "execution_count": 64,
   "metadata": {},
   "outputs": [
    {
     "data": {
      "text/plain": [
       "array([[ 1.91423526, -0.95448475, -3.94607378, ..., -0.20534803,\n",
       "         0.80881593,  0.11709746],\n",
       "       [ 0.58898468,  0.92465983,  3.92472334, ..., -0.3730926 ,\n",
       "        -0.73839269, -0.20673423],\n",
       "       [ 1.30203398, -0.31719986,  3.02338171, ..., -0.98563353,\n",
       "        -1.13541249,  0.38192487],\n",
       "       ...,\n",
       "       [ 1.02257439, -0.14796788,  2.47001013, ...,  0.22943108,\n",
       "         0.32595767,  1.14623143],\n",
       "       [ 1.07611447, -0.38082674, -2.45561382, ..., -0.75658596,\n",
       "        -0.09373994,  0.23058484],\n",
       "       [-1.25766573, -2.22753044,  0.28357027, ...,  0.75345801,\n",
       "         1.78347427,  0.29362417]])"
      ]
     },
     "execution_count": 64,
     "metadata": {},
     "output_type": "execute_result"
    }
   ],
   "source": [
    "principalComponents = pca.fit_transform(X_std)\n",
    "principalComponents"
   ]
  },
  {
   "cell_type": "code",
   "execution_count": 65,
   "metadata": {},
   "outputs": [
    {
     "data": {
      "text/html": [
       "<div>\n",
       "<style scoped>\n",
       "    .dataframe tbody tr th:only-of-type {\n",
       "        vertical-align: middle;\n",
       "    }\n",
       "\n",
       "    .dataframe tbody tr th {\n",
       "        vertical-align: top;\n",
       "    }\n",
       "\n",
       "    .dataframe thead th {\n",
       "        text-align: right;\n",
       "    }\n",
       "</style>\n",
       "<table border=\"1\" class=\"dataframe\">\n",
       "  <thead>\n",
       "    <tr style=\"text-align: right;\">\n",
       "      <th></th>\n",
       "      <th>0</th>\n",
       "      <th>1</th>\n",
       "      <th>2</th>\n",
       "      <th>3</th>\n",
       "      <th>4</th>\n",
       "      <th>5</th>\n",
       "      <th>6</th>\n",
       "      <th>7</th>\n",
       "      <th>8</th>\n",
       "      <th>9</th>\n",
       "      <th>10</th>\n",
       "      <th>11</th>\n",
       "      <th>12</th>\n",
       "      <th>13</th>\n",
       "      <th>14</th>\n",
       "      <th>15</th>\n",
       "    </tr>\n",
       "  </thead>\n",
       "  <tbody>\n",
       "    <tr>\n",
       "      <th>0</th>\n",
       "      <td>1.914235</td>\n",
       "      <td>-0.954485</td>\n",
       "      <td>-3.946074</td>\n",
       "      <td>2.028807</td>\n",
       "      <td>-0.266857</td>\n",
       "      <td>0.529290</td>\n",
       "      <td>-1.414219</td>\n",
       "      <td>1.496637</td>\n",
       "      <td>0.132642</td>\n",
       "      <td>-0.817652</td>\n",
       "      <td>-0.501727</td>\n",
       "      <td>-0.791053</td>\n",
       "      <td>0.218766</td>\n",
       "      <td>-0.205348</td>\n",
       "      <td>0.808816</td>\n",
       "      <td>0.117097</td>\n",
       "    </tr>\n",
       "    <tr>\n",
       "      <th>1</th>\n",
       "      <td>0.588985</td>\n",
       "      <td>0.924660</td>\n",
       "      <td>3.924723</td>\n",
       "      <td>-1.779959</td>\n",
       "      <td>-0.993270</td>\n",
       "      <td>-0.676377</td>\n",
       "      <td>1.878686</td>\n",
       "      <td>0.555994</td>\n",
       "      <td>1.083424</td>\n",
       "      <td>0.087820</td>\n",
       "      <td>-0.506942</td>\n",
       "      <td>0.636022</td>\n",
       "      <td>-0.055679</td>\n",
       "      <td>-0.373093</td>\n",
       "      <td>-0.738393</td>\n",
       "      <td>-0.206734</td>\n",
       "    </tr>\n",
       "    <tr>\n",
       "      <th>2</th>\n",
       "      <td>1.302034</td>\n",
       "      <td>-0.317200</td>\n",
       "      <td>3.023382</td>\n",
       "      <td>-2.043379</td>\n",
       "      <td>-2.081455</td>\n",
       "      <td>0.935773</td>\n",
       "      <td>-1.298190</td>\n",
       "      <td>1.154058</td>\n",
       "      <td>0.779893</td>\n",
       "      <td>-1.103442</td>\n",
       "      <td>2.194539</td>\n",
       "      <td>-2.309801</td>\n",
       "      <td>-0.555189</td>\n",
       "      <td>-0.985634</td>\n",
       "      <td>-1.135412</td>\n",
       "      <td>0.381925</td>\n",
       "    </tr>\n",
       "    <tr>\n",
       "      <th>3</th>\n",
       "      <td>-3.020770</td>\n",
       "      <td>-0.868790</td>\n",
       "      <td>-0.801698</td>\n",
       "      <td>-2.186977</td>\n",
       "      <td>-0.556450</td>\n",
       "      <td>0.728956</td>\n",
       "      <td>0.960224</td>\n",
       "      <td>-1.383076</td>\n",
       "      <td>0.252505</td>\n",
       "      <td>0.745837</td>\n",
       "      <td>-1.053396</td>\n",
       "      <td>0.497996</td>\n",
       "      <td>-0.158813</td>\n",
       "      <td>0.991481</td>\n",
       "      <td>-0.166612</td>\n",
       "      <td>-1.044622</td>\n",
       "    </tr>\n",
       "    <tr>\n",
       "      <th>4</th>\n",
       "      <td>4.528903</td>\n",
       "      <td>-1.093503</td>\n",
       "      <td>0.973146</td>\n",
       "      <td>-1.419441</td>\n",
       "      <td>-1.716481</td>\n",
       "      <td>1.434510</td>\n",
       "      <td>1.071462</td>\n",
       "      <td>-0.966939</td>\n",
       "      <td>-1.676634</td>\n",
       "      <td>1.162543</td>\n",
       "      <td>-1.007922</td>\n",
       "      <td>-1.363323</td>\n",
       "      <td>-0.323332</td>\n",
       "      <td>-0.116237</td>\n",
       "      <td>0.788582</td>\n",
       "      <td>0.195904</td>\n",
       "    </tr>\n",
       "  </tbody>\n",
       "</table>\n",
       "</div>"
      ],
      "text/plain": [
       "         0         1         2         3         4         5         6   \\\n",
       "0  1.914235 -0.954485 -3.946074  2.028807 -0.266857  0.529290 -1.414219   \n",
       "1  0.588985  0.924660  3.924723 -1.779959 -0.993270 -0.676377  1.878686   \n",
       "2  1.302034 -0.317200  3.023382 -2.043379 -2.081455  0.935773 -1.298190   \n",
       "3 -3.020770 -0.868790 -0.801698 -2.186977 -0.556450  0.728956  0.960224   \n",
       "4  4.528903 -1.093503  0.973146 -1.419441 -1.716481  1.434510  1.071462   \n",
       "\n",
       "         7         8         9         10        11        12        13  \\\n",
       "0  1.496637  0.132642 -0.817652 -0.501727 -0.791053  0.218766 -0.205348   \n",
       "1  0.555994  1.083424  0.087820 -0.506942  0.636022 -0.055679 -0.373093   \n",
       "2  1.154058  0.779893 -1.103442  2.194539 -2.309801 -0.555189 -0.985634   \n",
       "3 -1.383076  0.252505  0.745837 -1.053396  0.497996 -0.158813  0.991481   \n",
       "4 -0.966939 -1.676634  1.162543 -1.007922 -1.363323 -0.323332 -0.116237   \n",
       "\n",
       "         14        15  \n",
       "0  0.808816  0.117097  \n",
       "1 -0.738393 -0.206734  \n",
       "2 -1.135412  0.381925  \n",
       "3 -0.166612 -1.044622  \n",
       "4  0.788582  0.195904  "
      ]
     },
     "execution_count": 65,
     "metadata": {},
     "output_type": "execute_result"
    }
   ],
   "source": [
    "principalDf = pd.DataFrame(data = principalComponents)\n",
    "principalDf.head()"
   ]
  },
  {
   "cell_type": "code",
   "execution_count": 66,
   "metadata": {},
   "outputs": [],
   "source": [
    "principalDf = x"
   ]
  },
  {
   "cell_type": "code",
   "execution_count": 67,
   "metadata": {},
   "outputs": [
    {
     "data": {
      "text/plain": [
       "array([0.12033916, 0.09561054, 0.08444415, 0.06498408, 0.04860154,\n",
       "       0.04214118, 0.03942072, 0.03389377, 0.02998102, 0.02931962,\n",
       "       0.02781758, 0.02576983, 0.02275224, 0.02226773, 0.021627  ,\n",
       "       0.01913305])"
      ]
     },
     "execution_count": 67,
     "metadata": {},
     "output_type": "execute_result"
    }
   ],
   "source": [
    "pca.explained_variance_ratio_"
   ]
  },
  {
   "cell_type": "markdown",
   "metadata": {},
   "source": [
    "## Question 3"
   ]
  },
  {
   "cell_type": "code",
   "execution_count": 68,
   "metadata": {},
   "outputs": [],
   "source": [
    "from sklearn.model_selection import train_test_split\n",
    "x_train,x_test,y_train,y_test=train_test_split(x,Y,test_size=0.25)"
   ]
  },
  {
   "cell_type": "markdown",
   "metadata": {},
   "source": [
    "## Question 5"
   ]
  },
  {
   "cell_type": "code",
   "execution_count": 69,
   "metadata": {},
   "outputs": [
    {
     "data": {
      "text/plain": [
       "LogisticRegression(C=1.0, class_weight=None, dual=False, fit_intercept=True,\n",
       "          intercept_scaling=1, max_iter=100, multi_class='ovr', n_jobs=1,\n",
       "          penalty='l2', random_state=None, solver='liblinear', tol=0.0001,\n",
       "          verbose=0, warm_start=False)"
      ]
     },
     "execution_count": 69,
     "metadata": {},
     "output_type": "execute_result"
    }
   ],
   "source": [
    "from sklearn.linear_model import LogisticRegression\n",
    "reg=LogisticRegression()\n",
    "reg.fit(x_train,y_train)"
   ]
  },
  {
   "cell_type": "code",
   "execution_count": 70,
   "metadata": {},
   "outputs": [],
   "source": [
    "pred = reg.predict(x_test)"
   ]
  },
  {
   "cell_type": "markdown",
   "metadata": {},
   "source": [
    "## Question 6"
   ]
  },
  {
   "cell_type": "markdown",
   "metadata": {},
   "source": [
    "## a)"
   ]
  },
  {
   "cell_type": "code",
   "execution_count": 71,
   "metadata": {},
   "outputs": [
    {
     "data": {
      "text/plain": [
       "0.9644444444444444"
      ]
     },
     "execution_count": 71,
     "metadata": {},
     "output_type": "execute_result"
    }
   ],
   "source": [
    "from sklearn import metrics\n",
    "metrics.accuracy_score(y_test,pred)"
   ]
  },
  {
   "cell_type": "markdown",
   "metadata": {},
   "source": [
    "## b)"
   ]
  },
  {
   "cell_type": "code",
   "execution_count": 72,
   "metadata": {},
   "outputs": [
    {
     "data": {
      "text/plain": [
       "array([[55,  0,  0,  0,  1,  1,  0,  0,  0,  0],\n",
       "       [ 0, 46,  0,  0,  0,  0,  0,  0,  2,  1],\n",
       "       [ 0,  0, 47,  1,  0,  0,  0,  0,  0,  0],\n",
       "       [ 0,  0,  0, 30,  0,  1,  0,  0,  0,  0],\n",
       "       [ 0,  1,  0,  0, 44,  0,  0,  0,  0,  0],\n",
       "       [ 0,  0,  0,  0,  0, 44,  0,  0,  0,  0],\n",
       "       [ 0,  0,  0,  0,  0,  0, 42,  0,  1,  0],\n",
       "       [ 0,  1,  0,  0,  0,  0,  0, 41,  0,  0],\n",
       "       [ 0,  1,  0,  1,  0,  1,  0,  0, 40,  0],\n",
       "       [ 0,  0,  0,  0,  0,  0,  0,  0,  3, 45]], dtype=int64)"
      ]
     },
     "execution_count": 72,
     "metadata": {},
     "output_type": "execute_result"
    }
   ],
   "source": [
    "from sklearn.metrics import confusion_matrix\n",
    "confusion_matrix(y_test,pred)"
   ]
  },
  {
   "cell_type": "markdown",
   "metadata": {},
   "source": [
    "## c)"
   ]
  },
  {
   "cell_type": "code",
   "execution_count": 73,
   "metadata": {},
   "outputs": [
    {
     "name": "stdout",
     "output_type": "stream",
     "text": [
      "             precision    recall  f1-score   support\n",
      "\n",
      "          0       1.00      0.96      0.98        57\n",
      "          1       0.94      0.94      0.94        49\n",
      "          2       1.00      0.98      0.99        48\n",
      "          3       0.94      0.97      0.95        31\n",
      "          4       0.98      0.98      0.98        45\n",
      "          5       0.94      1.00      0.97        44\n",
      "          6       1.00      0.98      0.99        43\n",
      "          7       1.00      0.98      0.99        42\n",
      "          8       0.87      0.93      0.90        43\n",
      "          9       0.98      0.94      0.96        48\n",
      "\n",
      "avg / total       0.97      0.96      0.96       450\n",
      "\n"
     ]
    }
   ],
   "source": [
    "from sklearn.metrics import classification_report\n",
    "print(classification_report(y_test,pred))"
   ]
  }
 ],
 "metadata": {
  "kernelspec": {
   "display_name": "Python 3",
   "language": "python",
   "name": "python3"
  },
  "language_info": {
   "codemirror_mode": {
    "name": "ipython",
    "version": 3
   },
   "file_extension": ".py",
   "mimetype": "text/x-python",
   "name": "python",
   "nbconvert_exporter": "python",
   "pygments_lexer": "ipython3",
   "version": "3.6.5"
  }
 },
 "nbformat": 4,
 "nbformat_minor": 2
}
