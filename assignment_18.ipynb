{
 "cells": [
  {
   "cell_type": "markdown",
   "metadata": {},
   "source": [
    "## Question 1"
   ]
  },
  {
   "cell_type": "code",
   "execution_count": 1,
   "metadata": {},
   "outputs": [
    {
     "name": "stdout",
     "output_type": "stream",
     "text": [
      "F = (b+c)(a-1)\n"
     ]
    }
   ],
   "source": [
    "print('F = (b+c)(a-1)')"
   ]
  },
  {
   "cell_type": "markdown",
   "metadata": {},
   "source": [
    "## Question 2"
   ]
  },
  {
   "cell_type": "code",
   "execution_count": 2,
   "metadata": {},
   "outputs": [],
   "source": [
    "x1 = -0.06\n",
    "x2 = -2.5\n",
    "x3 = 1.4\n",
    "\n",
    "w1 = 2.7\n",
    "w2 = -8.6\n",
    "w3 = 0.002\n",
    "\n",
    "X = (w1*x1) + (w2*x2) +(w3*x3)"
   ]
  },
  {
   "cell_type": "code",
   "execution_count": 3,
   "metadata": {},
   "outputs": [],
   "source": [
    "import math"
   ]
  },
  {
   "cell_type": "code",
   "execution_count": 4,
   "metadata": {},
   "outputs": [
    {
     "name": "stdout",
     "output_type": "stream",
     "text": [
      "0.999999999461\n"
     ]
    }
   ],
   "source": [
    "fx = 1 /(1 + math.exp(-X))\n",
    "print(fx)"
   ]
  },
  {
   "cell_type": "code",
   "execution_count": 5,
   "metadata": {},
   "outputs": [
    {
     "name": "stdout",
     "output_type": "stream",
     "text": [
      "0.99999999838\n"
     ]
    }
   ],
   "source": [
    "bias = -1.1\n",
    "newX = X + bias\n",
    "newfx = 1 / (1 + math.exp(-newX))\n",
    "print(newfx)"
   ]
  },
  {
   "cell_type": "markdown",
   "metadata": {},
   "source": [
    "#### Bias doesn't affect much as it is very less.\n",
    "\n",
    "#### Bias can be considered as a negative threshold. A bias can be considered as a method to get output as 1 from the activation function. Bigger the bias value, easier it is to get 1 as the output, but if the bias is negative, it becomes difficult."
   ]
  }
 ],
 "metadata": {
  "kernelspec": {
   "display_name": "Python 3",
   "language": "python",
   "name": "python3"
  },
  "language_info": {
   "codemirror_mode": {
    "name": "ipython",
    "version": 3
   },
   "file_extension": ".py",
   "mimetype": "text/x-python",
   "name": "python",
   "nbconvert_exporter": "python",
   "pygments_lexer": "ipython3",
   "version": "3.6.5"
  }
 },
 "nbformat": 4,
 "nbformat_minor": 2
}
